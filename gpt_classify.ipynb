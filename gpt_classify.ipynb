{
 "cells": [
  {
   "cell_type": "markdown",
   "id": "099a52d6",
   "metadata": {},
   "source": [
    "# SETUP"
   ]
  },
  {
   "cell_type": "code",
   "execution_count": 26,
   "id": "4dfdcf8c",
   "metadata": {},
   "outputs": [],
   "source": [
    "import pandas as pd\n",
    "import openai\n",
    "from tqdm import tqdm\n",
    "import time\n",
    "import json\n",
    "import os\n",
    "from dotenv import load_dotenv"
   ]
  },
  {
   "cell_type": "code",
   "execution_count": 20,
   "id": "bb47dc7b",
   "metadata": {},
   "outputs": [],
   "source": [
    "# TODO input csv path\n",
    "\n",
    "csv_path = \"dfposts_for_classification.csv\""
   ]
  },
  {
   "cell_type": "code",
   "execution_count": 21,
   "id": "a8092a37",
   "metadata": {},
   "outputs": [],
   "source": [
    "def make_prompt(text):\n",
    "    return f\"\"\"POST:\n",
    "{text}\n",
    "\n",
    "\n",
    "TASKS:\n",
    "First, your task is to evaluate how political this post is, using the following 4-point scale:\n",
    "\n",
    "0 - Not political: No references to political, social, or civic issues. Purely about food, cooking, or personal updates\n",
    "\n",
    "1 - Slightly political: Indirect or mild references to civic life, e.g., calls for kindness, unity, or vague references to current events.\n",
    "\n",
    "2 - Moderately political: Mentions or endorses political causes or events (e.g., mentions Gaza, gender equality, food justice), but not confrontational or polarizing\n",
    "\n",
    "3 - Strongly political: Clearly takes a stance, uses activist language, references specific political actors, calls to action (e.g., “Free Palestine,” “End the blockade,” “Boycott XYZ”).\n",
    "\n",
    "Classify the caption into one of the four categories. Also briefly explain your rating in 1-2 sentences.\n",
    "\n",
    "Next, your task is to evaluate how much the post is about food, cooking, or recipes, using the following 4-point scale:\n",
    "\n",
    "0 - Not about food at all: No mention or visual reference to food, cooking, ingredients, or meals. The post may focus on personal life, holidays, politics, or other unrelated topics.\n",
    "\n",
    "1 - Slightly about food: Food is mentioned or visible, but only briefly or indirectly (e.g., just hashtags like #food or #dinner, or a food-related photo without explanation).\n",
    "\n",
    "2 - Mostly about food: The post primarily focuses on food, ingredients, or cooking, but without much detail. It may reference a dish, show a plate, or mention a product, but lacks process or recipe-level information.\n",
    "\n",
    "3 - Fully about food: The post clearly centers on food or cooking. It includes specific details about preparation, ingredients, techniques, or the full recipe. May also include culinary tips or product reviews within a food-focused context.\n",
    "\n",
    "Classify the post into one of the four categories. Also briefly explain your rating in 1-2 sentences.\n",
    "\"\"\""
   ]
  },
  {
   "cell_type": "code",
   "execution_count": 22,
   "id": "0062b91a",
   "metadata": {},
   "outputs": [],
   "source": [
    "def make_jsonl(input_csv_path, output_base_path, max_file_size_mb=150):\n",
    "    inputdf = pd.read_csv(input_csv_path)\n",
    "    inputdf.rename(columns={'postid': 'custom_id'}, inplace=True)\n",
    "\n",
    "    # Precompute each row as a dictionary\n",
    "    def row_to_dict(row):\n",
    "        return {\n",
    "            \"custom_id\": row[\"custom_id\"],\n",
    "            \"method\": \"POST\",\n",
    "            \"url\": \"/v1/chat/completions\",\n",
    "            \"body\": {\n",
    "                \"model\": \"gpt-4-1106-preview\",\n",
    "                \"messages\": [\n",
    "                    {\"role\": \"system\", \"content\": \"You are a media researcher evaluating Instagram posts by chefs. Each post may include elements related to politics, food, or both.\"},\n",
    "                    {\"role\": \"user\", \"content\": make_prompt(row[\"lowertranslated\"])}\n",
    "                ],\n",
    "                \"max_tokens\": 200\n",
    "            }\n",
    "        }\n",
    "\n",
    "    rows = inputdf.apply(row_to_dict, axis=1)\n",
    "\n",
    "    # File writing setup\n",
    "    max_bytes = max_file_size_mb * 1024 * 1024\n",
    "    file_index = 0\n",
    "    current_file_size = 0\n",
    "    current_file = open(f\"{output_base_path}_{file_index}.jsonl\", \"w\", encoding=\"utf-8\")\n",
    "\n",
    "    for row_dict in rows:\n",
    "        line = json.dumps(row_dict, ensure_ascii=False) + \"\\n\"\n",
    "        encoded = line.encode(\"utf-8\")\n",
    "        line_size = len(encoded)\n",
    "\n",
    "        if current_file_size + line_size > max_bytes:\n",
    "            current_file.close()\n",
    "            file_index += 1\n",
    "            current_file_size = 0\n",
    "            current_file = open(f\"{output_base_path}_{file_index}.jsonl\", \"w\", encoding=\"utf-8\")\n",
    "\n",
    "        current_file.write(line)\n",
    "        current_file_size += line_size\n",
    "\n",
    "    current_file.close()\n",
    "    print(f\"Done! {file_index + 1} file(s) written under {max_file_size_mb + 50}MB each.\")\n"
   ]
  },
  {
   "cell_type": "markdown",
   "id": "3fa43c00",
   "metadata": {},
   "source": [
    "# Run below to make batch jsonl files"
   ]
  },
  {
   "cell_type": "code",
   "execution_count": 23,
   "id": "13dfc94e",
   "metadata": {},
   "outputs": [
    {
     "name": "stdout",
     "output_type": "stream",
     "text": [
      "Done! 3 file(s) written under 200MB each.\n"
     ]
    }
   ],
   "source": [
    "output_jsonl = \"dfposts_batch\"\n",
    "\n",
    "make_jsonl(csv_path, output_jsonl)"
   ]
  },
  {
   "cell_type": "markdown",
   "id": "54d77d69",
   "metadata": {},
   "source": [
    "# openai batch api"
   ]
  },
  {
   "cell_type": "code",
   "execution_count": null,
   "id": "0e65cd41",
   "metadata": {},
   "outputs": [
    {
     "name": "stdout",
     "output_type": "stream",
     "text": [
      "FileObject(id='file-2YhhQvrAt4ZcqBCfaqoQVf', bytes=9887609, created_at=1748464591, filename='dfposts_batch_2.jsonl', object='file', purpose='batch', status='processed', expires_at=None, status_details=None)\n"
     ]
    }
   ],
   "source": [
    "# UPLOAD FILES\n",
    "\n",
    "from openai import OpenAI\n",
    "load_dotenv()\n",
    "client = OpenAI(api_key=os.getenv(\"OPENAI_KEY\"))\n",
    "\n",
    "# Where to log everything\n",
    "output_log = \"upload_and_batch_log.txt\"\n",
    "\n",
    "# Loop over all .jsonl files in current directory\n",
    "with open(output_log, \"w\", encoding=\"utf-8\") as log_file:\n",
    "    for filename in sorted(os.listdir(\".\")):\n",
    "        if filename.endswith(\".jsonl\"):\n",
    "            print(f\"Uploading {filename}...\")\n",
    "\n",
    "            try:\n",
    "                with open(filename, \"rb\") as f:\n",
    "                    file_response = client.files.create(file=f, purpose=\"batch\")\n",
    "\n",
    "                file_id = file_response.id\n",
    "                print(f\"Uploaded {filename} → file ID: {file_id}\")\n",
    "\n",
    "                # Submit batch job\n",
    "                batch_response = client.batches.create(\n",
    "                    input_file_id=file_id,\n",
    "                    endpoint=\"/v1/chat/completions\",\n",
    "                    completion_window=\"24h\",\n",
    "                    metadata={\"description\": f\"batch job for {filename}\"}\n",
    "                )\n",
    "\n",
    "                print(f\"Batch created - batch ID: {batch_response.id}\")\n",
    "\n",
    "                # Log both\n",
    "                log_file.write(f\"# {filename}\\n\")\n",
    "                log_file.write(f\"file_id: {file_id}\\n\")\n",
    "                log_file.write(f\"batch_id: {batch_response.id}\\n\\n\")\n",
    "\n",
    "            except Exception as e:\n",
    "                print(f\"Error with {filename}: {e}\")\n",
    "                log_file.write(f\"# ERROR uploading or batching {filename}: {e}\\n\\n\")\n",
    "\n",
    "print(\"All files processed. Logs saved to\", output_log)"
   ]
  },
  {
   "cell_type": "code",
   "execution_count": null,
   "id": "d1b5917d",
   "metadata": {},
   "outputs": [
    {
     "data": {
      "text/plain": [
       "Batch(id='batch_683775d15e3c8190a1b8ca797cbb2ce1', completion_window='24h', created_at=1748465105, endpoint='/v1/chat/completions', input_file_id='file-2YhhQvrAt4ZcqBCfaqoQVf', object='batch', status='validating', cancelled_at=None, cancelling_at=None, completed_at=None, error_file_id=None, errors=None, expired_at=None, expires_at=1748551505, failed_at=None, finalizing_at=None, in_progress_at=None, metadata={'description': 'ig classify'}, output_file_id=None, request_counts=BatchRequestCounts(completed=0, failed=0, total=0))"
      ]
     },
     "execution_count": 28,
     "metadata": {},
     "output_type": "execute_result"
    }
   ],
   "source": [
    "\n"
   ]
  }
 ],
 "metadata": {
  "kernelspec": {
   "display_name": "Python 3",
   "language": "python",
   "name": "python3"
  },
  "language_info": {
   "codemirror_mode": {
    "name": "ipython",
    "version": 3
   },
   "file_extension": ".py",
   "mimetype": "text/x-python",
   "name": "python",
   "nbconvert_exporter": "python",
   "pygments_lexer": "ipython3",
   "version": "3.11.8"
  }
 },
 "nbformat": 4,
 "nbformat_minor": 5
}
