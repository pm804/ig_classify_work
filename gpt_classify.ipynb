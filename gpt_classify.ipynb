{
 "cells": [
  {
   "cell_type": "markdown",
   "id": "099a52d6",
   "metadata": {},
   "source": [
    "# SETUP"
   ]
  },
  {
   "cell_type": "code",
   "execution_count": 3,
   "id": "4dfdcf8c",
   "metadata": {},
   "outputs": [],
   "source": [
    "import pandas as pd\n",
    "import openai\n",
    "from tqdm import tqdm\n",
    "import time\n",
    "import json\n",
    "import os\n",
    "from dotenv import load_dotenv"
   ]
  },
  {
   "cell_type": "code",
   "execution_count": 4,
   "id": "bb47dc7b",
   "metadata": {},
   "outputs": [],
   "source": [
    "# TODO input csv path\n",
    "\n",
    "csv_path = \"data/dfposts_for_classification.csv\""
   ]
  },
  {
   "cell_type": "code",
   "execution_count": 5,
   "id": "215c6c88",
   "metadata": {},
   "outputs": [
    {
     "data": {
      "text/html": [
       "<div>\n",
       "<style scoped>\n",
       "    .dataframe tbody tr th:only-of-type {\n",
       "        vertical-align: middle;\n",
       "    }\n",
       "\n",
       "    .dataframe tbody tr th {\n",
       "        vertical-align: top;\n",
       "    }\n",
       "\n",
       "    .dataframe thead th {\n",
       "        text-align: right;\n",
       "    }\n",
       "</style>\n",
       "<table border=\"1\" class=\"dataframe\">\n",
       "  <thead>\n",
       "    <tr style=\"text-align: right;\">\n",
       "      <th></th>\n",
       "      <th>postid</th>\n",
       "      <th>gpt_pol</th>\n",
       "      <th>lowertranslated</th>\n",
       "    </tr>\n",
       "  </thead>\n",
       "  <tbody>\n",
       "    <tr>\n",
       "      <th>0</th>\n",
       "      <td>3.072717e+18</td>\n",
       "      <td>0</td>\n",
       "      <td>single portion:\\n\\nvanillamisu lactose-free wi...</td>\n",
       "    </tr>\n",
       "    <tr>\n",
       "      <th>1</th>\n",
       "      <td>3.073456e+18</td>\n",
       "      <td>0</td>\n",
       "      <td>hello friends !! \\n\\ni'm happy to show you the...</td>\n",
       "    </tr>\n",
       "    <tr>\n",
       "      <th>2</th>\n",
       "      <td>3.074320e+18</td>\n",
       "      <td>0</td>\n",
       "      <td>thanks .it \\n\\nthe wish box \\n\\n vegetables\\n ...</td>\n",
       "    </tr>\n",
       "    <tr>\n",
       "      <th>3</th>\n",
       "      <td>3.075068e+18</td>\n",
       "      <td>0</td>\n",
       "      <td>gnocchi thursday ❤️\\n\\nand do you like gnocchi...</td>\n",
       "    </tr>\n",
       "    <tr>\n",
       "      <th>4</th>\n",
       "      <td>3.076973e+18</td>\n",
       "      <td>0</td>\n",
       "      <td>happy easter  \\n\\nand today we can break eggs ...</td>\n",
       "    </tr>\n",
       "  </tbody>\n",
       "</table>\n",
       "</div>"
      ],
      "text/plain": [
       "         postid  gpt_pol                                    lowertranslated\n",
       "0  3.072717e+18        0  single portion:\\n\\nvanillamisu lactose-free wi...\n",
       "1  3.073456e+18        0  hello friends !! \\n\\ni'm happy to show you the...\n",
       "2  3.074320e+18        0  thanks .it \\n\\nthe wish box \\n\\n vegetables\\n ...\n",
       "3  3.075068e+18        0  gnocchi thursday ❤️\\n\\nand do you like gnocchi...\n",
       "4  3.076973e+18        0  happy easter  \\n\\nand today we can break eggs ..."
      ]
     },
     "execution_count": 5,
     "metadata": {},
     "output_type": "execute_result"
    }
   ],
   "source": [
    "df = pd.read_csv(csv_path)\n",
    "df.head()"
   ]
  },
  {
   "cell_type": "code",
   "execution_count": 34,
   "id": "a8092a37",
   "metadata": {},
   "outputs": [],
   "source": [
    "def make_prompt(text):\n",
    "    return f\"\"\"POST:\n",
    "{text}\n",
    "\n",
    "\n",
    "TASKS:\n",
    "First, your task is to evaluate how political this post is, using the following 4-point scale:\n",
    "\n",
    "0 - Not political: No references to political, social, or civic issues. Purely about food, cooking, or personal updates\n",
    "\n",
    "1 - Slightly political: Indirect or mild references to civic life, e.g., calls for kindness, unity, or vague references to current events.\n",
    "\n",
    "2 - Moderately political: Mentions or endorses political causes or events (e.g., mentions Gaza, gender equality, food justice), but not confrontational or polarizing\n",
    "\n",
    "3 - Strongly political: Clearly takes a stance, uses activist language, references specific political actors, calls to action (e.g., “Free Palestine,” “End the blockade,” “Boycott XYZ”).\n",
    "\n",
    "Classify the caption into one of the four categories. Also briefly explain your rating in 1-2 sentences.\n",
    "\n",
    "Next, your task is to evaluate how much the post is about food, cooking, or recipes, using the following 4-point scale:\n",
    "\n",
    "0 - Not about food at all: No mention or visual reference to food, cooking, ingredients, or meals. The post may focus on personal life, holidays, politics, or other unrelated topics.\n",
    "\n",
    "1 - Slightly about food: Food is mentioned or visible, but only briefly or indirectly (e.g., just hashtags like #food or #dinner, or a food-related photo without explanation).\n",
    "\n",
    "2 - Mostly about food: The post primarily focuses on food, ingredients, or cooking, but without much detail. It may reference a dish, show a plate, or mention a product, but lacks process or recipe-level information.\n",
    "\n",
    "3 - Fully about food: The post clearly centers on food or cooking. It includes specific details about preparation, ingredients, techniques, or the full recipe. May also include culinary tips or product reviews within a food-focused context.\n",
    "\n",
    "Classify the post into one of the four categories. Also briefly explain your rating in 1-2 sentences.\n",
    "\"\"\""
   ]
  },
  {
   "cell_type": "code",
   "execution_count": 42,
   "id": "0062b91a",
   "metadata": {},
   "outputs": [],
   "source": [
    "def make_jsonl(input_csv_path, output_base_path, max_file_size_mb=150):\n",
    "    inputdf = pd.read_csv(input_csv_path)\n",
    "    \n",
    "    def row_to_dict(row):\n",
    "        return {\n",
    "            \"custom_id\": str(row[\"postid\"]),  # ensure it's a string\n",
    "            \"method\": \"POST\",\n",
    "            \"url\": \"/v1/chat/completions\",\n",
    "            \"body\": {\n",
    "                \"model\": \"gpt-4.1-mini-2025-04-14\",\n",
    "                \"messages\": [\n",
    "                    {\"role\": \"system\", \"content\": \"You are a media researcher evaluating Instagram posts by chefs. Each post may include elements related to politics, food, or both.\"},\n",
    "                    {\"role\": \"user\", \"content\": make_prompt(row[\"lowertranslated\"])}\n",
    "                ],\n",
    "                \"max_tokens\": 200\n",
    "            }\n",
    "        }\n",
    "\n",
    "    rows = inputdf.apply(row_to_dict, axis=1)\n",
    "\n",
    "    # File writing setup\n",
    "    max_bytes = max_file_size_mb * 1024 * 1024\n",
    "    file_index = 0\n",
    "    current_file_size = 0\n",
    "    current_file = open(f\"{output_base_path}_{file_index}.jsonl\", \"w\", encoding=\"utf-8\")\n",
    "\n",
    "    for row_dict in rows:\n",
    "        line = json.dumps(row_dict, ensure_ascii=False) + \"\\n\"\n",
    "        encoded = line.encode(\"utf-8\")\n",
    "        line_size = len(encoded)\n",
    "\n",
    "        if current_file_size + line_size > max_bytes:\n",
    "            current_file.close()\n",
    "            file_index += 1\n",
    "            current_file_size = 0\n",
    "            current_file = open(f\"{output_base_path}_{file_index}.jsonl\", \"w\", encoding=\"utf-8\")\n",
    "\n",
    "        current_file.write(line)\n",
    "        current_file_size += line_size\n",
    "\n",
    "    current_file.close()\n",
    "    print(f\"Done! {file_index + 1} file(s) written under {max_file_size_mb + 50}MB each.\")\n"
   ]
  },
  {
   "cell_type": "markdown",
   "id": "3fa43c00",
   "metadata": {},
   "source": [
    "# Run below to make batch jsonl files"
   ]
  },
  {
   "cell_type": "code",
   "execution_count": 43,
   "id": "13dfc94e",
   "metadata": {},
   "outputs": [
    {
     "name": "stdout",
     "output_type": "stream",
     "text": [
      "Done! 3 file(s) written under 200MB each.\n"
     ]
    }
   ],
   "source": [
    "output_jsonl = \"dfposts_batch\"\n",
    "\n",
    "make_jsonl(csv_path, output_jsonl)"
   ]
  },
  {
   "cell_type": "markdown",
   "id": "54d77d69",
   "metadata": {},
   "source": [
    "# openai batch api"
   ]
  },
  {
   "cell_type": "code",
   "execution_count": 48,
   "id": "0e65cd41",
   "metadata": {},
   "outputs": [
    {
     "name": "stdout",
     "output_type": "stream",
     "text": [
      "Uploading dfposts_batch_2.jsonl...\n",
      "Uploaded dfposts_batch_2.jsonl → file ID: file-7WhH6sKPUhkrrUSeaEdG8L\n",
      "Batch created - batch ID: batch_68377cd300648190aa735d51290b9477\n",
      "All files processed. Logs saved to upload_and_batch_log.txt\n"
     ]
    }
   ],
   "source": [
    "# UPLOAD FILES\n",
    "\n",
    "from openai import OpenAI\n",
    "load_dotenv()\n",
    "client = OpenAI(api_key=os.getenv(\"BENS_OPENAI_KEY\"))\n",
    "\n",
    "# Where to log everything\n",
    "output_log = \"upload_and_batch_log.txt\"\n",
    "\n",
    "# Loop over all .jsonl files in current directory\n",
    "with open(output_log, \"w\", encoding=\"utf-8\") as log_file:\n",
    "    for filename in sorted(os.listdir(\".\")):\n",
    "        if filename.endswith(\"2.jsonl\"): # CHANGE THE ENDS WITH TO UPLOAD SPECIFIC OR ALL FILES\n",
    "            print(f\"Uploading {filename}...\")\n",
    "\n",
    "            try:\n",
    "                with open(filename, \"rb\") as f:\n",
    "                    file_response = client.files.create(file=f, purpose=\"batch\")\n",
    "\n",
    "                file_id = file_response.id\n",
    "                print(f\"Uploaded {filename} → file ID: {file_id}\")\n",
    "\n",
    "                # Submit batch job\n",
    "                batch_response = client.batches.create(\n",
    "                    input_file_id=file_id,\n",
    "                    endpoint=\"/v1/chat/completions\",\n",
    "                    completion_window=\"24h\",\n",
    "                    metadata={\"description\": f\"batch job for {filename}\"}\n",
    "                )\n",
    "\n",
    "                print(f\"Batch created - batch ID: {batch_response.id}\")\n",
    "\n",
    "                # Log both\n",
    "                log_file.write(f\"# {filename}\\n\")\n",
    "                log_file.write(f\"file_id: {file_id}\\n\")\n",
    "                log_file.write(f\"batch_id: {batch_response.id}\\n\\n\")\n",
    "\n",
    "            except Exception as e:\n",
    "                print(f\"Error with {filename}: {e}\")\n",
    "                log_file.write(f\"# ERROR uploading or batching {filename}: {e}\\n\\n\")\n",
    "\n",
    "print(\"All files processed. Logs saved to\", output_log)"
   ]
  },
  {
   "cell_type": "code",
   "execution_count": 52,
   "id": "d1b5917d",
   "metadata": {},
   "outputs": [
    {
     "name": "stdout",
     "output_type": "stream",
     "text": [
      "Batch(id='batch_68377cd300648190aa735d51290b9477', completion_window='24h', created_at=1748466899, endpoint='/v1/chat/completions', input_file_id='file-7WhH6sKPUhkrrUSeaEdG8L', object='batch', status='in_progress', cancelled_at=None, cancelling_at=None, completed_at=None, error_file_id=None, errors=None, expired_at=None, expires_at=1748553299, failed_at=None, finalizing_at=None, in_progress_at=1748466901, metadata={'description': 'batch job for dfposts_batch_2.jsonl'}, output_file_id=None, request_counts=BatchRequestCounts(completed=3773, failed=0, total=3785))\n"
     ]
    },
    {
     "data": {
      "text/plain": [
       "'\\nfor batch in batches.data:\\n    try:\\n        client.batches.cancel(batch.id)\\n        print(f\"Cancelled batch {batch.id}\")\\n    except Exception as e:\\n        print(f\"Failed to cancel batch {batch.id}: {e}\")\\n        '"
      ]
     },
     "execution_count": 52,
     "metadata": {},
     "output_type": "execute_result"
    }
   ],
   "source": [
    "load_dotenv()\n",
    "client = OpenAI(api_key=os.getenv(\"BENS_OPENAI_KEY\"))\n",
    "\n",
    "batch = client.batches.retrieve(\"batch_68377cd300648190aa735d51290b9477\")\n",
    "print(batch)\n",
    "\n",
    "client.batches.list(limit=10)\n",
    "\n",
    "batches = client.batches.list()\n",
    "\n",
    "# Cancel each batch\n",
    "'''\n",
    "for batch in batches.data:\n",
    "    try:\n",
    "        client.batches.cancel(batch.id)\n",
    "        print(f\"Cancelled batch {batch.id}\")\n",
    "    except Exception as e:\n",
    "        print(f\"Failed to cancel batch {batch.id}: {e}\")\n",
    "        '''\n"
   ]
  },
  {
   "cell_type": "code",
   "execution_count": 10,
   "id": "c07a6b23",
   "metadata": {},
   "outputs": [
    {
     "name": "stdout",
     "output_type": "stream",
     "text": [
      "{\n",
      "  \"id\": \"batch_req_6837819ecff88190a71781eac02a003a\",\n",
      "  \"custom_id\": \"3.273643350270185e+18\",\n",
      "  \"response\": {\n",
      "    \"status_code\": 200,\n",
      "    \"request_id\": \"63887fd159d007e72ac23616beb44b06\",\n",
      "    \"body\": {\n",
      "      \"id\": \"chatcmpl-BcIP3yyo6SlYVebPVOjwAbT7Jhpt6\",\n",
      "      \"object\": \"chat.completion\",\n",
      "      \"created\": 1748466905,\n",
      "      \"model\": \"gpt-4.1-mini-2025-04-14\",\n",
      "      \"choices\": [\n",
      "        {\n",
      "          \"index\": 0,\n",
      "          \"message\": {\n",
      "            \"role\": \"assistant\",\n",
      "            \"content\": \"Political rating: 0 - Not political. The post exclusively discusses beef cuts, sourcing, private dining, and food preparation without any references to political, social, or civic issues.\\n\\nFood rating: 3 - Fully about food. The post centers on premium meat cuts, sourcing rare luxury ingredients, and cooking for personalized private dining experiences, providing specific culinary context and details.\",\n",
      "            \"refusal\": null,\n",
      "            \"annotations\": []\n",
      "          },\n",
      "          \"logprobs\": null,\n",
      "          \"finish_reason\": \"stop\"\n",
      "        }\n",
      "      ],\n",
      "      \"usage\": {\n",
      "        \"prompt_tokens\": 579,\n",
      "        \"completion_tokens\": 74,\n",
      "        \"total_tokens\": 653,\n",
      "        \"prompt_tokens_details\": {\n",
      "          \"cached_tokens\": 0,\n",
      "          \"audio_tokens\": 0\n",
      "        },\n",
      "        \"completion_tokens_details\": {\n",
      "          \"reasoning_tokens\": 0,\n",
      "          \"audio_tokens\": 0,\n",
      "          \"accepted_prediction_tokens\": 0,\n",
      "          \"rejected_prediction_tokens\": 0\n",
      "        }\n",
      "      },\n",
      "      \"service_tier\": \"default\",\n",
      "      \"system_fingerprint\": \"fp_71b9d4b387\"\n",
      "    }\n",
      "  },\n",
      "  \"error\": null\n",
      "}\n"
     ]
    }
   ],
   "source": [
    "import json\n",
    "\n",
    "# Print the first response to inspect structure\n",
    "print(json.dumps(responses[0], indent=2))"
   ]
  },
  {
   "cell_type": "code",
   "execution_count": 55,
   "id": "4895059a",
   "metadata": {},
   "outputs": [],
   "source": [
    "import json\n",
    "\n",
    "with open('data/dfposts_results_batch_2.jsonl', 'r') as f:\n",
    "    responses = [json.loads(line) for line in f]"
   ]
  },
  {
   "cell_type": "code",
   "execution_count": 56,
   "id": "ddcf4633",
   "metadata": {},
   "outputs": [],
   "source": [
    "import re\n",
    "\n",
    "def parse_gpt_response(response_text, postid):\n",
    "    political = re.search(r'Political rating:\\s*(\\d).*?\\n(.*?)(?=Food rating:)', response_text, re.DOTALL)\n",
    "    food = re.search(r'Food rating:\\s*(\\d).*?\\n(.*)', response_text, re.DOTALL)\n",
    "\n",
    "    return {\n",
    "        'postid': postid,\n",
    "        'classified_political': int(political.group(1)) if political else None,\n",
    "        'classified_political_reason': political.group(2).strip() if political else None,\n",
    "        'classified_food': int(food.group(1)) if food else None,\n",
    "        'classified_food_reason': food.group(2).strip() if food else None\n",
    "    }"
   ]
  },
  {
   "cell_type": "code",
   "execution_count": 57,
   "id": "9107345e",
   "metadata": {},
   "outputs": [
    {
     "data": {
      "text/html": [
       "<div>\n",
       "<style scoped>\n",
       "    .dataframe tbody tr th:only-of-type {\n",
       "        vertical-align: middle;\n",
       "    }\n",
       "\n",
       "    .dataframe tbody tr th {\n",
       "        vertical-align: top;\n",
       "    }\n",
       "\n",
       "    .dataframe thead th {\n",
       "        text-align: right;\n",
       "    }\n",
       "</style>\n",
       "<table border=\"1\" class=\"dataframe\">\n",
       "  <thead>\n",
       "    <tr style=\"text-align: right;\">\n",
       "      <th></th>\n",
       "      <th>postid</th>\n",
       "      <th>classified_political</th>\n",
       "      <th>classified_political_reason</th>\n",
       "      <th>classified_food</th>\n",
       "      <th>classified_food_reason</th>\n",
       "    </tr>\n",
       "  </thead>\n",
       "  <tbody>\n",
       "    <tr>\n",
       "      <th>0</th>\n",
       "      <td>3.273643350270185e+18</td>\n",
       "      <td>0.0</td>\n",
       "      <td></td>\n",
       "      <td>NaN</td>\n",
       "      <td>None</td>\n",
       "    </tr>\n",
       "    <tr>\n",
       "      <th>1</th>\n",
       "      <td>3.274350520418773e+18</td>\n",
       "      <td>0.0</td>\n",
       "      <td></td>\n",
       "      <td>NaN</td>\n",
       "      <td>None</td>\n",
       "    </tr>\n",
       "    <tr>\n",
       "      <th>2</th>\n",
       "      <td>3.275163072572793e+18</td>\n",
       "      <td>0.0</td>\n",
       "      <td>The post focuses entirely on a cookbook and co...</td>\n",
       "      <td>3.0</td>\n",
       "      <td>The post centers on a cookbook recommendation,...</td>\n",
       "    </tr>\n",
       "    <tr>\n",
       "      <th>3</th>\n",
       "      <td>3.275882972912236e+18</td>\n",
       "      <td>0.0</td>\n",
       "      <td></td>\n",
       "      <td>NaN</td>\n",
       "      <td>None</td>\n",
       "    </tr>\n",
       "    <tr>\n",
       "      <th>4</th>\n",
       "      <td>3.276535830531592e+18</td>\n",
       "      <td>0.0</td>\n",
       "      <td></td>\n",
       "      <td>NaN</td>\n",
       "      <td>None</td>\n",
       "    </tr>\n",
       "  </tbody>\n",
       "</table>\n",
       "</div>"
      ],
      "text/plain": [
       "                  postid  classified_political  \\\n",
       "0  3.273643350270185e+18                   0.0   \n",
       "1  3.274350520418773e+18                   0.0   \n",
       "2  3.275163072572793e+18                   0.0   \n",
       "3  3.275882972912236e+18                   0.0   \n",
       "4  3.276535830531592e+18                   0.0   \n",
       "\n",
       "                         classified_political_reason  classified_food  \\\n",
       "0                                                                 NaN   \n",
       "1                                                                 NaN   \n",
       "2  The post focuses entirely on a cookbook and co...              3.0   \n",
       "3                                                                 NaN   \n",
       "4                                                                 NaN   \n",
       "\n",
       "                              classified_food_reason  \n",
       "0                                               None  \n",
       "1                                               None  \n",
       "2  The post centers on a cookbook recommendation,...  \n",
       "3                                               None  \n",
       "4                                               None  "
      ]
     },
     "execution_count": 57,
     "metadata": {},
     "output_type": "execute_result"
    }
   ],
   "source": [
    "parsed_data = [\n",
    "    parse_gpt_response(\n",
    "        item['response']['body']['choices'][0]['message']['content'],\n",
    "        item['custom_id']\n",
    "    )\n",
    "    for item in responses\n",
    "]\n",
    "df_gpt = pd.DataFrame(parsed_data)\n",
    "df_gpt.head()"
   ]
  },
  {
   "cell_type": "code",
   "execution_count": 58,
   "id": "8df4575b",
   "metadata": {},
   "outputs": [],
   "source": [
    "# Fix both sides for perfect matching\n",
    "df['postid'] = df['postid'].apply(lambda x: str(int(x)) if pd.notnull(x) else None)\n",
    "\n",
    "# Convert df_gpt postid (from sci notation) to full int then string\n",
    "df_gpt['postid'] = df_gpt['postid'].apply(lambda x: str(int(float(x))) if pd.notnull(x) else None)\n",
    "\n"
   ]
  },
  {
   "cell_type": "code",
   "execution_count": 59,
   "id": "f2eab5c1",
   "metadata": {},
   "outputs": [
    {
     "name": "stdout",
     "output_type": "stream",
     "text": [
      "Empty DataFrame\n",
      "Columns: [postid, classified_political, classified_political_reason, classified_food, classified_food_reason]\n",
      "Index: []\n"
     ]
    }
   ],
   "source": [
    "unmatched = df_gpt[~df_gpt['postid'].isin(df['postid'])]\n",
    "print(unmatched.head())"
   ]
  },
  {
   "cell_type": "code",
   "execution_count": 60,
   "id": "a797f7e5",
   "metadata": {},
   "outputs": [
    {
     "data": {
      "text/html": [
       "<div>\n",
       "<style scoped>\n",
       "    .dataframe tbody tr th:only-of-type {\n",
       "        vertical-align: middle;\n",
       "    }\n",
       "\n",
       "    .dataframe tbody tr th {\n",
       "        vertical-align: top;\n",
       "    }\n",
       "\n",
       "    .dataframe thead th {\n",
       "        text-align: right;\n",
       "    }\n",
       "</style>\n",
       "<table border=\"1\" class=\"dataframe\">\n",
       "  <thead>\n",
       "    <tr style=\"text-align: right;\">\n",
       "      <th></th>\n",
       "      <th>postid</th>\n",
       "      <th>gpt_pol</th>\n",
       "      <th>lowertranslated</th>\n",
       "      <th>classified_political</th>\n",
       "      <th>classified_political_reason</th>\n",
       "      <th>classified_food</th>\n",
       "      <th>classified_food_reason</th>\n",
       "    </tr>\n",
       "  </thead>\n",
       "  <tbody>\n",
       "    <tr>\n",
       "      <th>0</th>\n",
       "      <td>3072716995901365760</td>\n",
       "      <td>0</td>\n",
       "      <td>single portion:\\n\\nvanillamisu lactose-free wi...</td>\n",
       "      <td>NaN</td>\n",
       "      <td>NaN</td>\n",
       "      <td>NaN</td>\n",
       "      <td>NaN</td>\n",
       "    </tr>\n",
       "    <tr>\n",
       "      <th>1</th>\n",
       "      <td>3073456240272180224</td>\n",
       "      <td>0</td>\n",
       "      <td>hello friends !! \\n\\ni'm happy to show you the...</td>\n",
       "      <td>NaN</td>\n",
       "      <td>NaN</td>\n",
       "      <td>NaN</td>\n",
       "      <td>NaN</td>\n",
       "    </tr>\n",
       "    <tr>\n",
       "      <th>2</th>\n",
       "      <td>3074320053253138944</td>\n",
       "      <td>0</td>\n",
       "      <td>thanks .it \\n\\nthe wish box \\n\\n vegetables\\n ...</td>\n",
       "      <td>NaN</td>\n",
       "      <td>NaN</td>\n",
       "      <td>NaN</td>\n",
       "      <td>NaN</td>\n",
       "    </tr>\n",
       "    <tr>\n",
       "      <th>3</th>\n",
       "      <td>3075068149048062976</td>\n",
       "      <td>0</td>\n",
       "      <td>gnocchi thursday ❤️\\n\\nand do you like gnocchi...</td>\n",
       "      <td>NaN</td>\n",
       "      <td>NaN</td>\n",
       "      <td>NaN</td>\n",
       "      <td>NaN</td>\n",
       "    </tr>\n",
       "    <tr>\n",
       "      <th>4</th>\n",
       "      <td>3076972714916051968</td>\n",
       "      <td>0</td>\n",
       "      <td>happy easter  \\n\\nand today we can break eggs ...</td>\n",
       "      <td>NaN</td>\n",
       "      <td>NaN</td>\n",
       "      <td>NaN</td>\n",
       "      <td>NaN</td>\n",
       "    </tr>\n",
       "  </tbody>\n",
       "</table>\n",
       "</div>"
      ],
      "text/plain": [
       "                postid  gpt_pol  \\\n",
       "0  3072716995901365760        0   \n",
       "1  3073456240272180224        0   \n",
       "2  3074320053253138944        0   \n",
       "3  3075068149048062976        0   \n",
       "4  3076972714916051968        0   \n",
       "\n",
       "                                     lowertranslated  classified_political  \\\n",
       "0  single portion:\\n\\nvanillamisu lactose-free wi...                   NaN   \n",
       "1  hello friends !! \\n\\ni'm happy to show you the...                   NaN   \n",
       "2  thanks .it \\n\\nthe wish box \\n\\n vegetables\\n ...                   NaN   \n",
       "3  gnocchi thursday ❤️\\n\\nand do you like gnocchi...                   NaN   \n",
       "4  happy easter  \\n\\nand today we can break eggs ...                   NaN   \n",
       "\n",
       "  classified_political_reason  classified_food classified_food_reason  \n",
       "0                         NaN              NaN                    NaN  \n",
       "1                         NaN              NaN                    NaN  \n",
       "2                         NaN              NaN                    NaN  \n",
       "3                         NaN              NaN                    NaN  \n",
       "4                         NaN              NaN                    NaN  "
      ]
     },
     "execution_count": 60,
     "metadata": {},
     "output_type": "execute_result"
    }
   ],
   "source": [
    "df_final = df.merge(df_gpt, on='postid', how='left')\n",
    "df_final['classified_political'].isnull().sum()\n",
    "df_final.head()"
   ]
  },
  {
   "cell_type": "code",
   "execution_count": 61,
   "id": "20930303",
   "metadata": {},
   "outputs": [],
   "source": [
    "df_final.to_csv(\"data/dfposts_with_gpt_labels.csv\", index=False)"
   ]
  },
  {
   "cell_type": "code",
   "execution_count": 62,
   "id": "d783e92e",
   "metadata": {},
   "outputs": [],
   "source": [
    "df_final['has_gpt'] = df_final[['classified_political', 'classified_food']].notnull().any(axis=1)\n",
    "df_final_sorted = df_final.sort_values(by='has_gpt', ascending=False).drop(columns='has_gpt')\n"
   ]
  },
  {
   "cell_type": "code",
   "execution_count": 63,
   "id": "c525754d",
   "metadata": {},
   "outputs": [],
   "source": [
    "df_final_sorted.to_csv(\"data/dfposts_with_gpt_labels_sorted.csv\", index=False)\n"
   ]
  },
  {
   "cell_type": "code",
   "execution_count": 64,
   "id": "e677be15",
   "metadata": {},
   "outputs": [
    {
     "data": {
      "text/plain": [
       "classified_political\n",
       "0.0    3246\n",
       "1.0     136\n",
       "3.0      49\n",
       "2.0      48\n",
       "Name: count, dtype: int64"
      ]
     },
     "execution_count": 64,
     "metadata": {},
     "output_type": "execute_result"
    }
   ],
   "source": [
    "df_final['classified_political'].value_counts(dropna=True)\n",
    "\n"
   ]
  }
 ],
 "metadata": {
  "kernelspec": {
   "display_name": "base",
   "language": "python",
   "name": "python3"
  },
  "language_info": {
   "codemirror_mode": {
    "name": "ipython",
    "version": 3
   },
   "file_extension": ".py",
   "mimetype": "text/x-python",
   "name": "python",
   "nbconvert_exporter": "python",
   "pygments_lexer": "ipython3",
   "version": "3.12.4"
  }
 },
 "nbformat": 4,
 "nbformat_minor": 5
}
